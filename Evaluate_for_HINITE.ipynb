{
 "cells": [
  {
   "cell_type": "markdown",
   "id": "37fb4644",
   "metadata": {},
   "source": [
    "Import necessary frameworks."
   ]
  },
  {
   "cell_type": "code",
   "execution_count": 8,
   "id": "33e6f1cb",
   "metadata": {},
   "outputs": [],
   "source": [
    "import math\n",
    "import random\n",
    "import warnings\n",
    "warnings.filterwarnings('ignore')\n",
    "\n",
    "import numpy as np\n",
    "import tensorflow as tf\n",
    "from tensorflow import keras\n",
    "\n",
    "import utils\n",
    "import HINITE\n",
    "import ourlayers\n",
    "import evaluation\n",
    "import os"
   ]
  },
  {
   "cell_type": "markdown",
   "id": "c70d895e",
   "metadata": {},
   "source": [
    "Load the Youtube dataset."
   ]
  },
  {
   "cell_type": "code",
   "execution_count": 2,
   "id": "1689e0dd",
   "metadata": {},
   "outputs": [],
   "source": [
    "data = utils.load_data(\"Flk\")\n",
    "train_idx, val_idx, test_idx = utils.split_train_val_test(data[0][0], 0.7, 0.15, 0.15)"
   ]
  },
  {
   "cell_type": "markdown",
   "id": "f699de11",
   "metadata": {},
   "source": [
    "Set parameters for the HINITE's architecture."
   ]
  },
  {
   "cell_type": "code",
   "execution_count": 3,
   "id": "f3a6a135",
   "metadata": {},
   "outputs": [],
   "source": [
    "configs = utils.config_pare_HINITE(\n",
    "    iterations=2000,\n",
    "    lr_rate=0.001,\n",
    "    lr_weigh_decay=0.001,\n",
    "    flag_early_stop=True,\n",
    "    use_batch=512,\n",
    "    rep_alpha=[0.05,0.1,0.5,1.0,1.5],\n",
    "    flag_norm_gnn=False,\n",
    "    flag_norm_rep=False,\n",
    "    out_dropout=0.2,\n",
    "    GNN_dropout=0.2,\n",
    "    rep_dropout=0.2,\n",
    "    inp_dropout=0.0,\n",
    "    rep_hidden_layer=3,\n",
    "    rep_hidden_shape=[128, 64, 64],\n",
    "    GNN_hidden_layer=3,\n",
    "    GNN_hidden_shape=[64, 64, 32], \n",
    "    divide=True,\n",
    "    head_num_att=1,\n",
    "    out_T_layer=3,\n",
    "    out_C_layer=3,\n",
    "    out_hidden_shape=[128, 64, 32],\n",
    "    GNN_alpha=[0.0],\n",
    "    hete_att_size=[128, 128, 64]\n",
    ")\n",
    "activation = tf.nn.relu"
   ]
  },
  {
   "cell_type": "markdown",
   "id": "cf128f9a",
   "metadata": {},
   "source": [
    "Choose the model (with different hyperparameters) by checking $\\epsilon_{\\rm{ATE/PEHE}}$ in the validation set, and save the result in the test set."
   ]
  },
  {
   "cell_type": "code",
   "execution_count": null,
   "id": "ac6d6d54",
   "metadata": {
    "scrolled": true
   },
   "outputs": [],
   "source": [
    "for i in range(0, 10):\n",
    "    temp = [0.01, 0.1, 0.5, 1.0, 1.5]\n",
    "    cur_all_input, yf, mu1, mu0, adjs= utils.data_preparation('Flk', i, data)\n",
    "\n",
    "    true_ite = mu1 - mu0\n",
    "    val_true_ite = true_ite[val_idx]\n",
    "    print(\"val true ite\", val_true_ite)\n",
    "    val_true_ate = np.mean(true_ite[val_idx])\n",
    "    test_true_ite = true_ite[test_idx]\n",
    "    print(\"test ite\", val_true_ite)\n",
    "    test_true_ate = np.mean(true_ite[test_idx])\n",
    "\n",
    "    cur_all_input = tf.cast(cur_all_input, tf.float32)\n",
    "    val_true_ate = tf.cast(val_true_ate, tf.float32)\n",
    "    test_true_ate = tf.cast(test_true_ate, tf.float32)\n",
    "\n",
    "    best_pehe = 1e10\n",
    "    best_err_ate = 1e10\n",
    "    best_model = None\n",
    "    for j in range(len(temp)):\n",
    "        cur_path = \"./save_Models_HINITE/Model_Flk_HINITE.HINITE_split_\" + str(i) +\"_rep_alpha\" + str(temp[j]) \n",
    "        cur_name = \"model\"\n",
    "        cur_model = utils.load_my_model(cur_path, cur_name, HINITE.HINITE, configs[0], tf.nn.relu, adjs)\n",
    "        pehe_val, err_ate_val = evaluation.evalate(\n",
    "            model=cur_model, \n",
    "            input_tensor=cur_all_input,\n",
    "            test_idx=val_idx,\n",
    "            true_ate=val_true_ate,\n",
    "            true_y=yf,\n",
    "            true_ite=val_true_ite\n",
    "        )\n",
    "\n",
    "        if err_ate_val < best_err_ate:\n",
    "            best_err_ate  = err_ate_val\n",
    "            print(\"best_err_ate\", err_ate_val)\n",
    "            best_model = cur_model\n",
    "        elif err_ate_val == best_err_ate and pehe_val < best_pehe:\n",
    "            best_pehe = pehe_val\n",
    "            best_model = cur_model\n",
    "\n",
    "        pehe_test, err_ate_test = evaluation.evalate(\n",
    "            model=best_model, \n",
    "            input_tensor=cur_all_input, \n",
    "            test_idx=test_idx, \n",
    "            true_ate=test_true_ate,\n",
    "            true_y=yf,\n",
    "            true_ite=test_true_ite\n",
    "        )\n",
    "        cur_test_results = [pehe_test, err_ate_test]\n",
    "        cur_test_results_name = './results/test_results_Flk_' + str(HINITE.HINITE)[8:-2]  +  \"_split_\" + str(i) \n",
    "        os.makedirs(os.path.dirname(cur_test_results_name), exist_ok=True)\n",
    "        utils.save_results(cur_test_results, cur_test_results_name)"
   ]
  },
  {
   "cell_type": "markdown",
   "id": "a8e00b06",
   "metadata": {},
   "source": [
    "Load result that you saved."
   ]
  },
  {
   "cell_type": "code",
   "execution_count": null,
   "id": "a7955509",
   "metadata": {},
   "outputs": [],
   "source": [
    "ate_all = []\n",
    "pehe_all = []\n",
    "for i in range(10):\n",
    "    cur_test_results_name = './results/test_results_Flk_' + str(HINITE.HINITE)[8:-2]  +  \"_split_\" + str(i)  +\".npy\"\n",
    "    cur_result = np.load(cur_test_results_name, allow_pickle=True)\n",
    "\n",
    "    cur_ate =  cur_result[1]\n",
    "    cur_pehe =  cur_result[0]\n",
    "\n",
    "    ate_all.append(np.float(cur_ate))\n",
    "    pehe_all.append(np.float(cur_pehe))\n",
    "\n",
    "print(ate_all)\n",
    "print(pehe_all)"
   ]
  },
  {
   "cell_type": "markdown",
   "id": "42d141dc",
   "metadata": {},
   "source": [
    "Evaluate results on the Youtube dataset."
   ]
  },
  {
   "cell_type": "code",
   "execution_count": null,
   "id": "fb2a192f",
   "metadata": {},
   "outputs": [],
   "source": [
    "# Flk\n",
    "print(np.mean(pehe_all), np.std(pehe_all))\n",
    "print(np.mean(ate_all), np.std(ate_all))"
   ]
  },
  {
   "cell_type": "code",
   "execution_count": null,
   "id": "ad39515b",
   "metadata": {},
   "outputs": [],
   "source": []
  }
 ],
 "metadata": {
  "kernelspec": {
   "display_name": "Python 3 (ipykernel)",
   "language": "python",
   "name": "python3"
  },
  "language_info": {
   "codemirror_mode": {
    "name": "ipython",
    "version": 3
   },
   "file_extension": ".py",
   "mimetype": "text/x-python",
   "name": "python",
   "nbconvert_exporter": "python",
   "pygments_lexer": "ipython3",
   "version": "3.8.13"
  }
 },
 "nbformat": 4,
 "nbformat_minor": 5
}
